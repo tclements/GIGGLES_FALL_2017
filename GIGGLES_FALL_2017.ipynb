{
 "cells": [
  {
   "cell_type": "markdown",
   "metadata": {
    "nbpresent": {
     "id": "0ad3fbde-a495-4ca6-9779-b664fb8a680b"
    },
    "slideshow": {
     "slide_type": "-"
    }
   },
   "source": [
    "<img src=\"FIGURES/GIGGLES_FALL_2017.001.jpeg\" />"
   ]
  },
  {
   "cell_type": "markdown",
   "metadata": {
    "nbpresent": {
     "id": "7391c88e-1407-4ab0-a9b8-1497d77df560"
    }
   },
   "source": [
    "<img src=\"FIGURES/GIGGLES_FALL_2017.002.jpeg\" />"
   ]
  },
  {
   "cell_type": "markdown",
   "metadata": {
    "nbpresent": {
     "id": "75bddb77-7ed3-495e-a69d-6d36adfad34f"
    }
   },
   "source": [
    "<img src=\"FIGURES/GIGGLES_FALL_2017.003.jpeg\" />"
   ]
  },
  {
   "cell_type": "markdown",
   "metadata": {
    "nbpresent": {
     "id": "c36221d5-433b-43b0-95a5-dc40e11903ab"
    }
   },
   "source": [
    "<img src=\"FIGURES/GIGGLES_FALL_2017.004.jpeg\" />"
   ]
  },
  {
   "cell_type": "markdown",
   "metadata": {
    "nbpresent": {
     "id": "a51b126d-3660-41be-a9b2-df523dc7b993"
    }
   },
   "source": [
    "<img src=\"FIGURES/GIGGLES_FALL_2017.005.jpeg\" />"
   ]
  },
  {
   "cell_type": "markdown",
   "metadata": {
    "collapsed": true,
    "nbpresent": {
     "id": "eb83d85d-98d5-488e-8367-f39ad6906fb2"
    }
   },
   "source": [
    "<img src=\"FIGURES/GIGGLES_FALL_2017.006.jpeg\" />"
   ]
  },
  {
   "cell_type": "markdown",
   "metadata": {
    "nbpresent": {
     "id": "57b112ab-fd54-4c6b-b7d9-8105103466fb"
    }
   },
   "source": [
    "<img src=\"FIGURES/GIGGLES_FALL_2017.007.jpeg\" />"
   ]
  },
  {
   "cell_type": "markdown",
   "metadata": {
    "nbpresent": {
     "id": "7a2d6be6-a0fd-427c-a228-75d7a85b38ca"
    }
   },
   "source": [
    "<img src=\"FIGURES/GIGGLES_FALL_2017.008.jpeg\" />"
   ]
  },
  {
   "cell_type": "markdown",
   "metadata": {
    "nbpresent": {
     "id": "64df94a6-55a8-454a-8aee-04195d43762f"
    }
   },
   "source": [
    "<img src=\"FIGURES/GIGGLES_FALL_2017.009.jpeg\" />"
   ]
  },
  {
   "cell_type": "markdown",
   "metadata": {
    "nbpresent": {
     "id": "8e508330-3ac9-40fc-b7be-45748e97feb8"
    }
   },
   "source": [
    "<img src=\"FIGURES/GIGGLES_FALL_2017.010.jpeg\" />"
   ]
  },
  {
   "cell_type": "code",
   "execution_count": null,
   "metadata": {
    "collapsed": true,
    "nbpresent": {
     "id": "58843443-aaf4-42ea-9d7e-5a13c1a78b35"
    }
   },
   "outputs": [],
   "source": []
  }
 ],
 "metadata": {
  "anaconda-cloud": {},
  "kernelspec": {
   "display_name": "Python [Root]",
   "language": "python",
   "name": "Python [Root]"
  },
  "language_info": {
   "codemirror_mode": {
    "name": "ipython",
    "version": 3
   },
   "file_extension": ".py",
   "mimetype": "text/x-python",
   "name": "python",
   "nbconvert_exporter": "python",
   "pygments_lexer": "ipython3",
   "version": "3.5.2"
  },
  "nbpresent": {
   "slides": {
    "06f8a042-d746-4cf7-a57c-c1eafdd491dc": {
     "id": "06f8a042-d746-4cf7-a57c-c1eafdd491dc",
     "prev": "09a981e2-1b4b-43d1-ac15-ca4f553f524e",
     "regions": {
      "bbca3af1-e123-4ed5-a2db-c9a1d97f38e3": {
       "attrs": {
        "height": 0.8,
        "width": 0.8,
        "x": 0.1,
        "y": 0.1
       },
       "content": {
        "cell": "7a2d6be6-a0fd-427c-a228-75d7a85b38ca",
        "part": "whole"
       },
       "id": "bbca3af1-e123-4ed5-a2db-c9a1d97f38e3"
      }
     }
    },
    "09a981e2-1b4b-43d1-ac15-ca4f553f524e": {
     "id": "09a981e2-1b4b-43d1-ac15-ca4f553f524e",
     "prev": "4667fd54-1b1c-4439-a27b-69cd2c2c7c07",
     "regions": {
      "9c217b1a-dd8b-4510-a793-9621258d253a": {
       "attrs": {
        "height": 0.8,
        "width": 0.8,
        "x": 0.1,
        "y": 0.1
       },
       "content": {
        "cell": "57b112ab-fd54-4c6b-b7d9-8105103466fb",
        "part": "whole"
       },
       "id": "9c217b1a-dd8b-4510-a793-9621258d253a"
      }
     }
    },
    "22d35548-9d9b-450a-8981-b45c2af058d5": {
     "id": "22d35548-9d9b-450a-8981-b45c2af058d5",
     "prev": "901fa201-1289-49f6-a0fc-46ea542551c5",
     "regions": {
      "c189f385-15a4-429b-8862-9fced00185c3": {
       "attrs": {
        "height": 0.8,
        "width": 0.8,
        "x": 0.1,
        "y": 0.1
       },
       "content": {
        "cell": "7391c88e-1407-4ab0-a9b8-1497d77df560",
        "part": "whole"
       },
       "id": "c189f385-15a4-429b-8862-9fced00185c3"
      }
     }
    },
    "456554f3-9fb9-4457-a2f7-1f69be238525": {
     "id": "456554f3-9fb9-4457-a2f7-1f69be238525",
     "prev": "f947fb61-1333-4d63-850c-827c4e1a5c57",
     "regions": {
      "a5ea406a-8b9a-4364-9262-68dbb65305d1": {
       "attrs": {
        "height": 0.8,
        "width": 0.8,
        "x": 0.1,
        "y": 0.1
       },
       "content": {
        "cell": "a51b126d-3660-41be-a9b2-df523dc7b993",
        "part": "whole"
       },
       "id": "a5ea406a-8b9a-4364-9262-68dbb65305d1"
      }
     }
    },
    "4667fd54-1b1c-4439-a27b-69cd2c2c7c07": {
     "id": "4667fd54-1b1c-4439-a27b-69cd2c2c7c07",
     "prev": "456554f3-9fb9-4457-a2f7-1f69be238525",
     "regions": {
      "521cf070-4432-4a6d-a211-5e1305abeaf7": {
       "attrs": {
        "height": 0.8,
        "width": 0.8,
        "x": 0.1,
        "y": 0.1
       },
       "content": {
        "cell": "eb83d85d-98d5-488e-8367-f39ad6906fb2",
        "part": "whole"
       },
       "id": "521cf070-4432-4a6d-a211-5e1305abeaf7"
      }
     }
    },
    "4844a3d4-1a4f-419e-94ad-2a9e12bc8f73": {
     "id": "4844a3d4-1a4f-419e-94ad-2a9e12bc8f73",
     "prev": "a8c91813-3750-406b-82c9-f0bd8a74323a",
     "regions": {
      "da16c8d2-2a57-4dc2-b79d-b3a074ee6544": {
       "attrs": {
        "height": 0.8,
        "width": 0.8,
        "x": 0.1,
        "y": 0.1
       },
       "content": {
        "cell": "58843443-aaf4-42ea-9d7e-5a13c1a78b35",
        "part": "whole"
       },
       "id": "da16c8d2-2a57-4dc2-b79d-b3a074ee6544"
      }
     }
    },
    "901fa201-1289-49f6-a0fc-46ea542551c5": {
     "id": "901fa201-1289-49f6-a0fc-46ea542551c5",
     "prev": null,
     "regions": {
      "4aa7c530-5fdd-4d57-a7a3-73461d9f287a": {
       "attrs": {
        "height": 0.8,
        "width": 0.8,
        "x": 0.1,
        "y": 0.1
       },
       "content": {
        "cell": "0ad3fbde-a495-4ca6-9779-b664fb8a680b",
        "part": "whole"
       },
       "id": "4aa7c530-5fdd-4d57-a7a3-73461d9f287a"
      }
     }
    },
    "a8c91813-3750-406b-82c9-f0bd8a74323a": {
     "id": "a8c91813-3750-406b-82c9-f0bd8a74323a",
     "prev": "ebcf4c5d-d504-4c13-a50b-6be5b2b08d45",
     "regions": {
      "6a2b9026-9ce4-4f6f-9d93-2150488e8478": {
       "attrs": {
        "height": 0.8,
        "width": 0.8,
        "x": 0.1,
        "y": 0.1
       },
       "content": {
        "cell": "8e508330-3ac9-40fc-b7be-45748e97feb8",
        "part": "whole"
       },
       "id": "6a2b9026-9ce4-4f6f-9d93-2150488e8478"
      }
     }
    },
    "b0ffe10f-2136-4462-996b-08fdb1c82652": {
     "id": "b0ffe10f-2136-4462-996b-08fdb1c82652",
     "prev": "22d35548-9d9b-450a-8981-b45c2af058d5",
     "regions": {
      "ef0d775a-abe8-448c-87d8-fc8fbacff656": {
       "attrs": {
        "height": 0.8,
        "width": 0.8,
        "x": 0.1,
        "y": 0.1
       },
       "content": {
        "cell": "75bddb77-7ed3-495e-a69d-6d36adfad34f",
        "part": "whole"
       },
       "id": "ef0d775a-abe8-448c-87d8-fc8fbacff656"
      }
     }
    },
    "ebcf4c5d-d504-4c13-a50b-6be5b2b08d45": {
     "id": "ebcf4c5d-d504-4c13-a50b-6be5b2b08d45",
     "prev": "06f8a042-d746-4cf7-a57c-c1eafdd491dc",
     "regions": {
      "d8ea4829-4b3e-4f49-8a11-e0a8305b43d4": {
       "attrs": {
        "height": 0.8,
        "width": 0.8,
        "x": 0.1,
        "y": 0.1
       },
       "content": {
        "cell": "64df94a6-55a8-454a-8aee-04195d43762f",
        "part": "whole"
       },
       "id": "d8ea4829-4b3e-4f49-8a11-e0a8305b43d4"
      }
     }
    },
    "f947fb61-1333-4d63-850c-827c4e1a5c57": {
     "id": "f947fb61-1333-4d63-850c-827c4e1a5c57",
     "prev": "b0ffe10f-2136-4462-996b-08fdb1c82652",
     "regions": {
      "89158d3f-aba6-4316-9d5a-538a9f2bd716": {
       "attrs": {
        "height": 0.8,
        "width": 0.8,
        "x": 0.1,
        "y": 0.1
       },
       "content": {
        "cell": "c36221d5-433b-43b0-95a5-dc40e11903ab",
        "part": "whole"
       },
       "id": "89158d3f-aba6-4316-9d5a-538a9f2bd716"
      }
     }
    }
   },
   "themes": {}
  }
 },
 "nbformat": 4,
 "nbformat_minor": 0
}
